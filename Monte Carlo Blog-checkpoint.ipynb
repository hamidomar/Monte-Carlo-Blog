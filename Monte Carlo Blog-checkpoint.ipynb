{
 "cells": [
  {
   "cell_type": "code",
   "execution_count": 2,
   "metadata": {
    "execution": {
     "iopub.execute_input": "2021-06-27T15:18:09.351259Z",
     "iopub.status.busy": "2021-06-27T15:18:09.350806Z",
     "iopub.status.idle": "2021-06-27T15:18:10.281428Z",
     "shell.execute_reply": "2021-06-27T15:18:10.280329Z",
     "shell.execute_reply.started": "2021-06-27T15:18:09.351210Z"
    }
   },
   "outputs": [],
   "source": [
    "import numpy as np\n",
    "import pandas as pd\n",
    "import matplotlib.pyplot as plt\n",
    "import seaborn as sns"
   ]
  },
  {
   "cell_type": "code",
   "execution_count": 3,
   "metadata": {
    "execution": {
     "iopub.execute_input": "2021-06-27T15:18:10.283264Z",
     "iopub.status.busy": "2021-06-27T15:18:10.282939Z",
     "iopub.status.idle": "2021-06-27T15:18:10.340722Z",
     "shell.execute_reply": "2021-06-27T15:18:10.339587Z",
     "shell.execute_reply.started": "2021-06-27T15:18:10.283215Z"
    }
   },
   "outputs": [],
   "source": [
    "df = pd.read_csv(\"../input/churn-modelling/Churn_Modelling.csv\")"
   ]
  },
  {
   "cell_type": "code",
   "execution_count": 4,
   "metadata": {
    "execution": {
     "iopub.execute_input": "2021-06-27T15:18:10.343199Z",
     "iopub.status.busy": "2021-06-27T15:18:10.342891Z",
     "iopub.status.idle": "2021-06-27T15:18:10.376772Z",
     "shell.execute_reply": "2021-06-27T15:18:10.376094Z",
     "shell.execute_reply.started": "2021-06-27T15:18:10.343170Z"
    }
   },
   "outputs": [
    {
     "data": {
      "text/html": [
       "<div>\n",
       "<style scoped>\n",
       "    .dataframe tbody tr th:only-of-type {\n",
       "        vertical-align: middle;\n",
       "    }\n",
       "\n",
       "    .dataframe tbody tr th {\n",
       "        vertical-align: top;\n",
       "    }\n",
       "\n",
       "    .dataframe thead th {\n",
       "        text-align: right;\n",
       "    }\n",
       "</style>\n",
       "<table border=\"1\" class=\"dataframe\">\n",
       "  <thead>\n",
       "    <tr style=\"text-align: right;\">\n",
       "      <th></th>\n",
       "      <th>RowNumber</th>\n",
       "      <th>CustomerId</th>\n",
       "      <th>Surname</th>\n",
       "      <th>CreditScore</th>\n",
       "      <th>Geography</th>\n",
       "      <th>Gender</th>\n",
       "      <th>Age</th>\n",
       "      <th>Tenure</th>\n",
       "      <th>Balance</th>\n",
       "      <th>NumOfProducts</th>\n",
       "      <th>HasCrCard</th>\n",
       "      <th>IsActiveMember</th>\n",
       "      <th>EstimatedSalary</th>\n",
       "      <th>Exited</th>\n",
       "    </tr>\n",
       "  </thead>\n",
       "  <tbody>\n",
       "    <tr>\n",
       "      <th>0</th>\n",
       "      <td>1</td>\n",
       "      <td>15634602</td>\n",
       "      <td>Hargrave</td>\n",
       "      <td>619</td>\n",
       "      <td>France</td>\n",
       "      <td>Female</td>\n",
       "      <td>42</td>\n",
       "      <td>2</td>\n",
       "      <td>0.00</td>\n",
       "      <td>1</td>\n",
       "      <td>1</td>\n",
       "      <td>1</td>\n",
       "      <td>101348.88</td>\n",
       "      <td>1</td>\n",
       "    </tr>\n",
       "    <tr>\n",
       "      <th>1</th>\n",
       "      <td>2</td>\n",
       "      <td>15647311</td>\n",
       "      <td>Hill</td>\n",
       "      <td>608</td>\n",
       "      <td>Spain</td>\n",
       "      <td>Female</td>\n",
       "      <td>41</td>\n",
       "      <td>1</td>\n",
       "      <td>83807.86</td>\n",
       "      <td>1</td>\n",
       "      <td>0</td>\n",
       "      <td>1</td>\n",
       "      <td>112542.58</td>\n",
       "      <td>0</td>\n",
       "    </tr>\n",
       "    <tr>\n",
       "      <th>2</th>\n",
       "      <td>3</td>\n",
       "      <td>15619304</td>\n",
       "      <td>Onio</td>\n",
       "      <td>502</td>\n",
       "      <td>France</td>\n",
       "      <td>Female</td>\n",
       "      <td>42</td>\n",
       "      <td>8</td>\n",
       "      <td>159660.80</td>\n",
       "      <td>3</td>\n",
       "      <td>1</td>\n",
       "      <td>0</td>\n",
       "      <td>113931.57</td>\n",
       "      <td>1</td>\n",
       "    </tr>\n",
       "    <tr>\n",
       "      <th>3</th>\n",
       "      <td>4</td>\n",
       "      <td>15701354</td>\n",
       "      <td>Boni</td>\n",
       "      <td>699</td>\n",
       "      <td>France</td>\n",
       "      <td>Female</td>\n",
       "      <td>39</td>\n",
       "      <td>1</td>\n",
       "      <td>0.00</td>\n",
       "      <td>2</td>\n",
       "      <td>0</td>\n",
       "      <td>0</td>\n",
       "      <td>93826.63</td>\n",
       "      <td>0</td>\n",
       "    </tr>\n",
       "    <tr>\n",
       "      <th>4</th>\n",
       "      <td>5</td>\n",
       "      <td>15737888</td>\n",
       "      <td>Mitchell</td>\n",
       "      <td>850</td>\n",
       "      <td>Spain</td>\n",
       "      <td>Female</td>\n",
       "      <td>43</td>\n",
       "      <td>2</td>\n",
       "      <td>125510.82</td>\n",
       "      <td>1</td>\n",
       "      <td>1</td>\n",
       "      <td>1</td>\n",
       "      <td>79084.10</td>\n",
       "      <td>0</td>\n",
       "    </tr>\n",
       "  </tbody>\n",
       "</table>\n",
       "</div>"
      ],
      "text/plain": [
       "   RowNumber  CustomerId   Surname  CreditScore Geography  Gender  Age  \\\n",
       "0          1    15634602  Hargrave          619    France  Female   42   \n",
       "1          2    15647311      Hill          608     Spain  Female   41   \n",
       "2          3    15619304      Onio          502    France  Female   42   \n",
       "3          4    15701354      Boni          699    France  Female   39   \n",
       "4          5    15737888  Mitchell          850     Spain  Female   43   \n",
       "\n",
       "   Tenure    Balance  NumOfProducts  HasCrCard  IsActiveMember  \\\n",
       "0       2       0.00              1          1               1   \n",
       "1       1   83807.86              1          0               1   \n",
       "2       8  159660.80              3          1               0   \n",
       "3       1       0.00              2          0               0   \n",
       "4       2  125510.82              1          1               1   \n",
       "\n",
       "   EstimatedSalary  Exited  \n",
       "0        101348.88       1  \n",
       "1        112542.58       0  \n",
       "2        113931.57       1  \n",
       "3         93826.63       0  \n",
       "4         79084.10       0  "
      ]
     },
     "execution_count": 4,
     "metadata": {},
     "output_type": "execute_result"
    }
   ],
   "source": [
    "df.head()"
   ]
  },
  {
   "cell_type": "code",
   "execution_count": 5,
   "metadata": {
    "execution": {
     "iopub.execute_input": "2021-06-27T15:18:10.378362Z",
     "iopub.status.busy": "2021-06-27T15:18:10.377945Z",
     "iopub.status.idle": "2021-06-27T15:18:10.425004Z",
     "shell.execute_reply": "2021-06-27T15:18:10.424198Z",
     "shell.execute_reply.started": "2021-06-27T15:18:10.378330Z"
    }
   },
   "outputs": [
    {
     "name": "stdout",
     "output_type": "stream",
     "text": [
      "Number of men\n",
      "5457\n",
      "Number of women\n",
      "4543\n",
      "Proportion of men who exited\n",
      "16.5\n",
      "Proportion of women who exited\n",
      "25.1\n"
     ]
    }
   ],
   "source": [
    "# Details and breakdown of gender\n",
    "print('Number of men')\n",
    "num_men = len(df[df['Gender'] == 'Male'])\n",
    "print(num_men)\n",
    "print('Number of women')\n",
    "num_women = len(df[df['Gender'] == 'Female'])\n",
    "print(num_women)\n",
    "# Proportion of men who exited\n",
    "exit_men = len(df.loc[(df['Gender'] == 'Male')& (df['Exited'] == 1)])\n",
    "prop_exit_m = np.round((exit_men/num_men)*100, 1)\n",
    "print('Proportion of men who exited')\n",
    "print(prop_exit_m)\n",
    "exit_women = len(df.loc[(df['Gender'] == 'Female')& (df['Exited'] == 1)])\n",
    "prop_exit_fm = np.round((exit_women/num_women)*100, 1)\n",
    "print('Proportion of women who exited')\n",
    "print(prop_exit_fm)"
   ]
  },
  {
   "cell_type": "code",
   "execution_count": 6,
   "metadata": {
    "execution": {
     "iopub.execute_input": "2021-06-27T15:18:10.426959Z",
     "iopub.status.busy": "2021-06-27T15:18:10.426406Z",
     "iopub.status.idle": "2021-06-27T15:18:10.742215Z",
     "shell.execute_reply": "2021-06-27T15:18:10.741420Z",
     "shell.execute_reply.started": "2021-06-27T15:18:10.426924Z"
    }
   },
   "outputs": [
    {
     "name": "stderr",
     "output_type": "stream",
     "text": [
      "/opt/conda/lib/python3.7/site-packages/seaborn/_decorators.py:43: FutureWarning: Pass the following variables as keyword args: x, y. From version 0.12, the only valid positional argument will be `data`, and passing other arguments without an explicit keyword will result in an error or misinterpretation.\n",
      "  FutureWarning\n"
     ]
    },
    {
     "data": {
      "text/plain": [
       "<AxesSubplot:xlabel='Gender', ylabel='Exited'>"
      ]
     },
     "execution_count": 6,
     "metadata": {},
     "output_type": "execute_result"
    },
    {
     "data": {
      "image/png": "[encoded data removed]",
      "text/plain": [
       "<Figure size 432x288 with 1 Axes>"
      ]
     },
     "metadata": {
      "needs_background": "light"
     },
     "output_type": "display_data"
    }
   ],
   "source": [
    "sns.barplot(df['Gender'],df['Exited'] )"
   ]
  },
  {
   "cell_type": "markdown",
   "metadata": {},
   "source": [
    "We can see the two proportions of respective genders\n",
    "\n",
    "Now we have to verfiy if this entials there is significant difference in these two proportions"
   ]
  },
  {
   "cell_type": "code",
   "execution_count": 7,
   "metadata": {
    "execution": {
     "iopub.execute_input": "2021-06-27T15:18:10.743974Z",
     "iopub.status.busy": "2021-06-27T15:18:10.743495Z",
     "iopub.status.idle": "2021-06-27T15:18:10.753748Z",
     "shell.execute_reply": "2021-06-27T15:18:10.752731Z",
     "shell.execute_reply.started": "2021-06-27T15:18:10.743942Z"
    }
   },
   "outputs": [],
   "source": [
    "men_df = df[df['Gender'] == 'Male']\n",
    "women_df = df[df['Gender'] == 'Female']"
   ]
  },
  {
   "cell_type": "code",
   "execution_count": 8,
   "metadata": {
    "execution": {
     "iopub.execute_input": "2021-06-27T15:18:10.755604Z",
     "iopub.status.busy": "2021-06-27T15:18:10.755165Z",
     "iopub.status.idle": "2021-06-27T15:18:10.768340Z",
     "shell.execute_reply": "2021-06-27T15:18:10.767168Z",
     "shell.execute_reply.started": "2021-06-27T15:18:10.755573Z"
    }
   },
   "outputs": [
    {
     "data": {
      "text/plain": [
       "((5457, 14), (4543, 14))"
      ]
     },
     "execution_count": 8,
     "metadata": {},
     "output_type": "execute_result"
    }
   ],
   "source": [
    "(men_df.shape, women_df.shape)"
   ]
  },
  {
   "cell_type": "markdown",
   "metadata": {},
   "source": [
    "Since the rows add up to 10K, we know thatthe split is correct.\n",
    "\n",
    "The more we verify our results, the lower the chances of a blunder!"
   ]
  },
  {
   "cell_type": "code",
   "execution_count": 9,
   "metadata": {
    "execution": {
     "iopub.execute_input": "2021-06-27T15:18:10.771542Z",
     "iopub.status.busy": "2021-06-27T15:18:10.771135Z",
     "iopub.status.idle": "2021-06-27T15:18:10.780355Z",
     "shell.execute_reply": "2021-06-27T15:18:10.779541Z",
     "shell.execute_reply.started": "2021-06-27T15:18:10.771506Z"
    }
   },
   "outputs": [],
   "source": [
    "def men_bootstrap():\n",
    "    men_list = []\n",
    "    for i in range(200):\n",
    "        men_bootstrap_df = pd.DataFrame([], columns = men_df.columns)\n",
    "        # first order of business - write a code to get 10,000 bootstrapped samples\n",
    "\n",
    "        # generating 1000 random numbers between 0 to len(df_men)\n",
    "        list_idx_men = np.random.randint(low = 0, high = 5457, size = 500)\n",
    "\n",
    "        # create a bootstrapped df using the indexes returned by the randon function\n",
    "        for i in list_idx_men:\n",
    "            men_bootstrap_df = men_bootstrap_df.append(men_df.iloc[i])\n",
    "\n",
    "        # we can calculate proportion of men who left and add that to a list and then loop \n",
    "        var = len(men_bootstrap_df[men_bootstrap_df['Exited'] == 1])\n",
    "        men_list.append(var)\n",
    "    return men_list"
   ]
  },
  {
   "cell_type": "code",
   "execution_count": 10,
   "metadata": {
    "execution": {
     "iopub.execute_input": "2021-06-27T15:18:10.782375Z",
     "iopub.status.busy": "2021-06-27T15:18:10.781917Z",
     "iopub.status.idle": "2021-06-27T15:30:56.725453Z",
     "shell.execute_reply": "2021-06-27T15:30:56.724487Z",
     "shell.execute_reply.started": "2021-06-27T15:18:10.782344Z"
    }
   },
   "outputs": [],
   "source": [
    "men_list = men_bootstrap()"
   ]
  },
  {
   "cell_type": "markdown",
   "metadata": {},
   "source": [
    "Till this poitwe have been able to calculate the proportion of people that exited\n",
    "\n",
    "Now we can multiply by 100 and round to make the number more palatable.\n",
    "\n",
    "Subsequently, we calculate 10,000 of these and append it to a list\n",
    "\n",
    "We can then build a confidence interval based on the results\n",
    "\n",
    "Now, there remains a question whether bootstrapping is equivalent to generating numbers with weighted probabilities of occuring... Imo, it isn't!\n",
    "\n",
    "Final list contains all proportions. We should round them as we previously mentioned."
   ]
  },
  {
   "cell_type": "code",
   "execution_count": 11,
   "metadata": {
    "execution": {
     "iopub.execute_input": "2021-06-27T15:30:56.727021Z",
     "iopub.status.busy": "2021-06-27T15:30:56.726734Z",
     "iopub.status.idle": "2021-06-27T15:30:56.735362Z",
     "shell.execute_reply": "2021-06-27T15:30:56.734028Z",
     "shell.execute_reply.started": "2021-06-27T15:30:56.726988Z"
    }
   },
   "outputs": [],
   "source": [
    "men_list = np.round(men_list*100)"
   ]
  },
  {
   "cell_type": "code",
   "execution_count": 12,
   "metadata": {
    "execution": {
     "iopub.execute_input": "2021-06-27T15:30:56.737143Z",
     "iopub.status.busy": "2021-06-27T15:30:56.736729Z",
     "iopub.status.idle": "2021-06-27T15:30:56.886909Z",
     "shell.execute_reply": "2021-06-27T15:30:56.885986Z",
     "shell.execute_reply.started": "2021-06-27T15:30:56.737113Z"
    }
   },
   "outputs": [
    {
     "data": {
      "text/plain": [
       "(array([ 300.,  900., 2600., 4500., 3300., 4400., 2000., 1200.,  400.,\n",
       "         400.]),\n",
       " array([ 64. ,  68.3,  72.6,  76.9,  81.2,  85.5,  89.8,  94.1,  98.4,\n",
       "        102.7, 107. ]),\n",
       " <BarContainer object of 10 artists>)"
      ]
     },
     "execution_count": 12,
     "metadata": {},
     "output_type": "execute_result"
    },
    {
     "data": {
      "image/png": "[encoded data removed]",
      "text/plain": [
       "<Figure size 432x288 with 1 Axes>"
      ]
     },
     "metadata": {
      "needs_background": "light"
     },
     "output_type": "display_data"
    }
   ],
   "source": [
    "plt.hist(men_list)"
   ]
  },
  {
   "cell_type": "code",
   "execution_count": 13,
   "metadata": {
    "execution": {
     "iopub.execute_input": "2021-06-27T15:30:56.888716Z",
     "iopub.status.busy": "2021-06-27T15:30:56.888424Z",
     "iopub.status.idle": "2021-06-27T15:30:56.894765Z",
     "shell.execute_reply": "2021-06-27T15:30:56.893774Z",
     "shell.execute_reply.started": "2021-06-27T15:30:56.888689Z"
    }
   },
   "outputs": [],
   "source": [
    "def women_bootstrap():\n",
    "    women_list = []\n",
    "    for i in range(200):\n",
    "        women_bootstrap_df = pd.DataFrame([], columns = women_df.columns)\n",
    "     \n",
    "    \n",
    "        list_idx_women = np.random.randint(low = 0, high = 4543, size = 500)\n",
    "        \n",
    "        for i in list_idx_women:\n",
    "            women_bootstrap_df = women_bootstrap_df.append(women_df.iloc[i])\n",
    "\n",
    "        # we can calculate proportion of men who left and add that to a list and then loop \n",
    "        var = len(women_bootstrap_df[women_bootstrap_df['Exited'] == 1])\n",
    "        women_list.append(var)\n",
    "    return women_list"
   ]
  },
  {
   "cell_type": "code",
   "execution_count": 14,
   "metadata": {
    "execution": {
     "iopub.execute_input": "2021-06-27T15:30:56.896571Z",
     "iopub.status.busy": "2021-06-27T15:30:56.896199Z",
     "iopub.status.idle": "2021-06-27T15:43:40.027126Z",
     "shell.execute_reply": "2021-06-27T15:43:40.026310Z",
     "shell.execute_reply.started": "2021-06-27T15:30:56.896535Z"
    }
   },
   "outputs": [],
   "source": [
    "women_list = women_bootstrap()"
   ]
  },
  {
   "cell_type": "code",
   "execution_count": 15,
   "metadata": {
    "execution": {
     "iopub.execute_input": "2021-06-27T15:43:40.029044Z",
     "iopub.status.busy": "2021-06-27T15:43:40.028465Z",
     "iopub.status.idle": "2021-06-27T15:43:40.037682Z",
     "shell.execute_reply": "2021-06-27T15:43:40.036929Z",
     "shell.execute_reply.started": "2021-06-27T15:43:40.029000Z"
    }
   },
   "outputs": [],
   "source": [
    "women_list = np.round(women_list*100)"
   ]
  },
  {
   "cell_type": "code",
   "execution_count": 16,
   "metadata": {
    "execution": {
     "iopub.execute_input": "2021-06-27T15:43:40.039668Z",
     "iopub.status.busy": "2021-06-27T15:43:40.039092Z",
     "iopub.status.idle": "2021-06-27T15:43:40.196723Z",
     "shell.execute_reply": "2021-06-27T15:43:40.195616Z",
     "shell.execute_reply.started": "2021-06-27T15:43:40.039624Z"
    }
   },
   "outputs": [
    {
     "data": {
      "text/plain": [
       "(array([ 200.,  600., 1400., 2600., 5000., 4400., 2800., 1900.,  900.,\n",
       "         200.]),\n",
       " array([ 96. , 101.7, 107.4, 113.1, 118.8, 124.5, 130.2, 135.9, 141.6,\n",
       "        147.3, 153. ]),\n",
       " <BarContainer object of 10 artists>)"
      ]
     },
     "execution_count": 16,
     "metadata": {},
     "output_type": "execute_result"
    },
    {
     "data": {
      "image/png": "[encoded data removed]",
      "text/plain": [
       "<Figure size 432x288 with 1 Axes>"
      ]
     },
     "metadata": {
      "needs_background": "light"
     },
     "output_type": "display_data"
    }
   ],
   "source": [
    "plt.hist(women_list)"
   ]
  },
  {
   "cell_type": "markdown",
   "metadata": {},
   "source": []
  },
  {
   "cell_type": "code",
   "execution_count": 17,
   "metadata": {
    "execution": {
     "iopub.execute_input": "2021-06-27T15:43:40.200134Z",
     "iopub.status.busy": "2021-06-27T15:43:40.199846Z",
     "iopub.status.idle": "2021-06-27T15:43:40.722073Z",
     "shell.execute_reply": "2021-06-27T15:43:40.721118Z",
     "shell.execute_reply.started": "2021-06-27T15:43:40.200107Z"
    }
   },
   "outputs": [
    {
     "data": {
      "image/png": "[encoded data removed]",
      "text/plain": [
       "<Figure size 432x288 with 1 Axes>"
      ]
     },
     "metadata": {},
     "output_type": "display_data"
    }
   ],
   "source": [
    "sns.set(style = \"darkgrid\")\n",
    "sns.histplot(data=men_list, color=\"skyblue\")\n",
    "sns.histplot(data=women_list, color=\"red\")\n",
    "plt.legend()\n",
    "plt.show()"
   ]
  },
  {
   "cell_type": "markdown",
   "metadata": {},
   "source": [
    "Now we can try the alternate methods where we rely on weighted probabilties rather than bootstrapping\n",
    "\n",
    "by setting weighted means, we can generate, let's assume 1000 numbers(either 0 or 1), and then find respective proportions.\n",
    "\n",
    "Repeating that with other gender, we get another distribution. Once we plot them together, we have we can make decision based on whether there is overlap or not"
   ]
  },
  {
   "cell_type": "code",
   "execution_count": 18,
   "metadata": {
    "execution": {
     "iopub.execute_input": "2021-06-27T15:43:40.725666Z",
     "iopub.status.busy": "2021-06-27T15:43:40.725240Z",
     "iopub.status.idle": "2021-06-27T15:43:40.730497Z",
     "shell.execute_reply": "2021-06-27T15:43:40.729465Z",
     "shell.execute_reply.started": "2021-06-27T15:43:40.725636Z"
    }
   },
   "outputs": [],
   "source": [
    "import numpy as np\n",
    "import pandas as pd\n",
    "import matplotlib.pyplot as plt\n",
    "import seaborn as sns"
   ]
  },
  {
   "cell_type": "code",
   "execution_count": 19,
   "metadata": {
    "execution": {
     "iopub.execute_input": "2021-06-27T15:43:40.732012Z",
     "iopub.status.busy": "2021-06-27T15:43:40.731748Z",
     "iopub.status.idle": "2021-06-27T15:43:42.272024Z",
     "shell.execute_reply": "2021-06-27T15:43:42.270964Z",
     "shell.execute_reply.started": "2021-06-27T15:43:40.731987Z"
    }
   },
   "outputs": [],
   "source": [
    "men_dist = []\n",
    "women_dist = []\n",
    "for i in range(10000):\n",
    "    men_dist.append(np.random.choice([0, 1], p = [.835, 1 - .835], size = 1000))\n",
    "    women_dist.append(np.random.choice([0, 1], p = [.749,1 - .749], size = 1000))"
   ]
  },
  {
   "cell_type": "code",
   "execution_count": 20,
   "metadata": {
    "execution": {
     "iopub.execute_input": "2021-06-27T15:43:42.273832Z",
     "iopub.status.busy": "2021-06-27T15:43:42.273489Z",
     "iopub.status.idle": "2021-06-27T15:43:42.379178Z",
     "shell.execute_reply": "2021-06-27T15:43:42.378345Z",
     "shell.execute_reply.started": "2021-06-27T15:43:42.273801Z"
    }
   },
   "outputs": [],
   "source": [
    "final_num_men = []\n",
    "final_num_women = [] \n",
    "for i in men_dist:\n",
    "    count_men = np.bincount(i)\n",
    "    final_num_men.append(count_men[1])\n",
    "    \n",
    "for i in women_dist:\n",
    "    count_women = np.bincount(i)\n",
    "    final_num_women.append(count_women[1])"
   ]
  },
  {
   "cell_type": "code",
   "execution_count": 21,
   "metadata": {
    "execution": {
     "iopub.execute_input": "2021-06-27T15:43:42.380675Z",
     "iopub.status.busy": "2021-06-27T15:43:42.380199Z",
     "iopub.status.idle": "2021-06-27T15:43:43.060059Z",
     "shell.execute_reply": "2021-06-27T15:43:43.059264Z",
     "shell.execute_reply.started": "2021-06-27T15:43:42.380643Z"
    }
   },
   "outputs": [
    {
     "data": {
      "image/png": "[encoded data removed]",
      "text/plain": [
       "<Figure size 432x288 with 1 Axes>"
      ]
     },
     "metadata": {},
     "output_type": "display_data"
    }
   ],
   "source": [
    "sns.set(style = \"darkgrid\")\n",
    "sns.histplot(data=final_num_men, color=\"skyblue\")\n",
    "sns.histplot(data=final_num_women, color=\"red\")\n",
    "plt.legend()\n",
    "plt.show()"
   ]
  },
  {
   "cell_type": "code",
   "execution_count": 22,
   "metadata": {
    "execution": {
     "iopub.execute_input": "2021-06-27T15:43:43.061453Z",
     "iopub.status.busy": "2021-06-27T15:43:43.061103Z",
     "iopub.status.idle": "2021-06-27T15:43:43.065998Z",
     "shell.execute_reply": "2021-06-27T15:43:43.065076Z",
     "shell.execute_reply.started": "2021-06-27T15:43:43.061421Z"
    }
   },
   "outputs": [],
   "source": [
    "def intersection(lst1, lst2):\n",
    "  \n",
    "    # Use of hybrid method\n",
    "    temp = set(lst2)\n",
    "    lst3 = [value for value in lst1 if value in temp]\n",
    "    return lst3"
   ]
  },
  {
   "cell_type": "code",
   "execution_count": 23,
   "metadata": {
    "execution": {
     "iopub.execute_input": "2021-06-27T15:43:43.068204Z",
     "iopub.status.busy": "2021-06-27T15:43:43.067739Z",
     "iopub.status.idle": "2021-06-27T15:43:43.083887Z",
     "shell.execute_reply": "2021-06-27T15:43:43.083112Z",
     "shell.execute_reply.started": "2021-06-27T15:43:43.068160Z"
    }
   },
   "outputs": [
    {
     "data": {
      "text/plain": [
       "[199, 212, 204, 208, 199, 202, 199, 208, 202, 204, 212]"
      ]
     },
     "execution_count": 23,
     "metadata": {},
     "output_type": "execute_result"
    }
   ],
   "source": [
    "intersection(final_num_men, final_num_women)"
   ]
  },
  {
   "cell_type": "code",
   "execution_count": 24,
   "metadata": {
    "execution": {
     "iopub.execute_input": "2021-06-27T15:43:43.087334Z",
     "iopub.status.busy": "2021-06-27T15:43:43.086837Z",
     "iopub.status.idle": "2021-06-27T15:43:43.697683Z",
     "shell.execute_reply": "2021-06-27T15:43:43.696848Z",
     "shell.execute_reply.started": "2021-06-27T15:43:43.087301Z"
    }
   },
   "outputs": [],
   "source": [
    "men_dist = []\n",
    "women_dist = []\n",
    "for i in range(5000):\n",
    "    men_dist.append(np.random.choice([0, 1], p = [.835, 1 - .835], size = 500))\n",
    "    women_dist.append(np.random.choice([0, 1], p = [.749,1 - .749], size = 500))"
   ]
  },
  {
   "cell_type": "code",
   "execution_count": 25,
   "metadata": {
    "execution": {
     "iopub.execute_input": "2021-06-27T15:43:43.699272Z",
     "iopub.status.busy": "2021-06-27T15:43:43.698868Z",
     "iopub.status.idle": "2021-06-27T15:43:43.742578Z",
     "shell.execute_reply": "2021-06-27T15:43:43.741576Z",
     "shell.execute_reply.started": "2021-06-27T15:43:43.699226Z"
    }
   },
   "outputs": [],
   "source": [
    "final_num_men = []\n",
    "final_num_women = [] \n",
    "for i in men_dist:\n",
    "    count_men = np.bincount(i)\n",
    "    final_num_men.append(count_men[1])\n",
    "    \n",
    "for i in women_dist:\n",
    "    count_women = np.bincount(i)\n",
    "    final_num_women.append(count_women[1])"
   ]
  },
  {
   "cell_type": "code",
   "execution_count": 26,
   "metadata": {
    "execution": {
     "iopub.execute_input": "2021-06-27T15:43:43.744008Z",
     "iopub.status.busy": "2021-06-27T15:43:43.743729Z",
     "iopub.status.idle": "2021-06-27T15:43:44.201467Z",
     "shell.execute_reply": "2021-06-27T15:43:44.200306Z",
     "shell.execute_reply.started": "2021-06-27T15:43:43.743982Z"
    }
   },
   "outputs": [
    {
     "data": {
      "image/png": "[encoded data removed]",
      "text/plain": [
       "<Figure size 432x288 with 1 Axes>"
      ]
     },
     "metadata": {},
     "output_type": "display_data"
    }
   ],
   "source": [
    "sns.set(style = \"darkgrid\")\n",
    "sns.histplot(data=final_num_men, color=\"skyblue\")\n",
    "sns.histplot(data=final_num_women, color=\"red\")\n",
    "plt.legend()\n",
    "plt.show()"
   ]
  },
  {
   "cell_type": "code",
   "execution_count": null,
   "metadata": {},
   "outputs": [],
   "source": []
  }
 ],
 "metadata": {
  "kernelspec": {
   "display_name": "Python 3",
   "language": "python",
   "name": "python3"
  },
  "language_info": {
   "codemirror_mode": {
    "name": "ipython",
    "version": 3
   },
   "file_extension": ".py",
   "mimetype": "text/x-python",
   "name": "python",
   "nbconvert_exporter": "python",
   "pygments_lexer": "ipython3",
   "version": "3.9.5"
  }
 },
 "nbformat": 4,
 "nbformat_minor": 4
}
